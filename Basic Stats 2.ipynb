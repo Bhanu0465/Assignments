{
 "cells": [
  {
   "cell_type": "code",
   "execution_count": 24,
   "id": "c49aca4c-5ebf-435f-a306-55fa83831347",
   "metadata": {},
   "outputs": [],
   "source": [
    "## importing libraries\n",
    "import numpy as np\n",
    "from scipy.stats import t\n",
    "from scipy.stats import norm"
   ]
  },
  {
   "cell_type": "code",
   "execution_count": 2,
   "id": "5d923b62-e993-4ff1-bc5f-75b29c5afa07",
   "metadata": {},
   "outputs": [],
   "source": [
    "##loading the data\n",
    "\n",
    "data = [1.13, 1.55, 1.43, 0.92, 1.25, 1.36, 1.32, 0.85, 1.07, 1.48, 1.20, 1.33, 1.18, 1.22, 1.29]"
   ]
  },
  {
   "cell_type": "markdown",
   "id": "9558ac1c-1e92-4d8e-8fa1-729cce5e9cc0",
   "metadata": {},
   "source": [
    "### a. Build 99% Confidence Interval Using Sample Standard Deviation\r\n",
    "Assuming the sample is representative of the population, construct a 99% confidence interval for the mean number of characters printed before the print-head fails using the sample standard deviation. Explain the steps you take and the rationale behind using the t-distribution for this task.\r\n"
   ]
  },
  {
   "cell_type": "code",
   "execution_count": 19,
   "id": "c0c3a0ed-8984-46ec-923f-f04914aa4aa2",
   "metadata": {},
   "outputs": [],
   "source": [
    "## calculating sample mean and standard deviation\n",
    "\n",
    "sample_mean = np.mean(data)   \n",
    "sample_std = np.std(data, ddof=1)\n",
    "n = len(data)\n",
    "conf_level=0.99"
   ]
  },
  {
   "cell_type": "code",
   "execution_count": 20,
   "id": "4e425b97-dd5e-41df-a95f-0598ce6a5bf2",
   "metadata": {},
   "outputs": [],
   "source": [
    "df = n - 1\n",
    "alpha = 1 - conf_level"
   ]
  },
  {
   "cell_type": "code",
   "execution_count": 21,
   "id": "9fc57d48-28dc-4f03-894b-e310649aca2b",
   "metadata": {},
   "outputs": [],
   "source": [
    "t_critical = t.ppf(1 - alpha / 2, df)"
   ]
  },
  {
   "cell_type": "code",
   "execution_count": 22,
   "id": "d74e84b0-5999-4319-9283-1ee79e479785",
   "metadata": {},
   "outputs": [],
   "source": [
    "margin_of_error = t_critical * (sample_std / np.sqrt(n))\n",
    "lower= sample_mean - margin_of_error\n",
    "upper= sample_mean + margin_of_error"
   ]
  },
  {
   "cell_type": "code",
   "execution_count": 23,
   "id": "ae79c8f7-70d2-4d90-8bc8-09c28ec3047b",
   "metadata": {},
   "outputs": [
    {
     "name": "stdout",
     "output_type": "stream",
     "text": [
      "Confidence Interval: (1.090197338451367, 1.3871359948819662)\n"
     ]
    }
   ],
   "source": [
    "print(f\"Confidence Interval: ({lower}, {upper})\")"
   ]
  },
  {
   "cell_type": "markdown",
   "id": "c68f86b5-9e0d-4456-8859-73ccc8d0d5a4",
   "metadata": {},
   "source": [
    "### b. Build 99% Confidence Interval Using Known Population Standard Deviation\n",
    "If it were known that the population standard deviation is 0.2 million characters, construct a 99% confidence interval for the mean number of characters printed before failure.\n"
   ]
  },
  {
   "cell_type": "code",
   "execution_count": 25,
   "id": "91b3770b-2c9a-404b-b9ae-d5832a60a3c3",
   "metadata": {},
   "outputs": [],
   "source": [
    "pop_std = 0.2"
   ]
  },
  {
   "cell_type": "code",
   "execution_count": 29,
   "id": "08fcea70-74f4-4aa8-9bc3-2b9412b2f077",
   "metadata": {},
   "outputs": [],
   "source": [
    "z_score=norm.ppf(1-alpha/2)\n",
    "margin_of_errors = z_score * (pop_std / np.sqrt(n))"
   ]
  },
  {
   "cell_type": "code",
   "execution_count": 32,
   "id": "fb0cd3a4-43aa-4a6c-a7dc-e4bb28fd088c",
   "metadata": {},
   "outputs": [
    {
     "name": "stdout",
     "output_type": "stream",
     "text": [
      "Confidence Interval: 1.1056514133957607, 1.3716819199375725\n"
     ]
    }
   ],
   "source": [
    "print(f\"Confidence Interval: {sample_mean - margin_of_errors}, {sample_mean + margin_of_errors}\")"
   ]
  },
  {
   "cell_type": "code",
   "execution_count": null,
   "id": "528245a5-5d6f-4e50-896d-c9bac6afba89",
   "metadata": {},
   "outputs": [],
   "source": []
  }
 ],
 "metadata": {
  "kernelspec": {
   "display_name": "Python 3 (ipykernel)",
   "language": "python",
   "name": "python3"
  },
  "language_info": {
   "codemirror_mode": {
    "name": "ipython",
    "version": 3
   },
   "file_extension": ".py",
   "mimetype": "text/x-python",
   "name": "python",
   "nbconvert_exporter": "python",
   "pygments_lexer": "ipython3",
   "version": "3.11.7"
  }
 },
 "nbformat": 4,
 "nbformat_minor": 5
}
