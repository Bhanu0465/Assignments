{
 "cells": [
  {
   "cell_type": "markdown",
   "id": "3eba46f8-edfc-45d7-bb41-00d53e39c20f",
   "metadata": {},
   "source": [
    "### Association between Device Type and Customer Satisfaction\r\n",
    "Background:\r\n",
    "Mizzare Corporation has collected data on customer satisfaction levels for two types of smart home devices: Smart Thermostats and Smart Lights. They want to determine if there's a significant association between the type of device purchased and the customer's satisfaction level.\r\n",
    "Data Provided:\r\n",
    "The data is summarized in a contingency table showing the counts of customers in each satisfaction level for both types of devices:\r\n",
    "Satisfaction\tSmart Thermostat\tSmart L   ight\t\n",
    "Total\r\n",
    "Very Sati       sfi            ed          50\t\n",
    "70\t120\r\n",
    "Sat           isf           ied\t        80\t\n",
    "100\t180\r\n",
    "               Neu            tr       al\t6\n",
    "0\t90\t150\r\n",
    "Un        s   ati            sf       ied\n",
    "\t30\t50\t80\r\n",
    "Very Un   sat            isf        ie\n",
    " d\t20\t50              \t70\r",
    ",          \n",
    "Tot       al\t\n",
    "240\t360\t600\r\n",
    "Objective:\r\n",
    "To use the Chi-Square test for independence to determine if there's a significant association between the type of smart home device purchased (Smart Thermostats vs. Smart Lights) and the customer satisfaction level.\r\n"
   ]
  },
  {
   "cell_type": "markdown",
   "id": "e4415b80-cc29-45c7-83ac-74ad13b9aa6e",
   "metadata": {},
   "source": [
    "### 1. State the Hypothesis:\n",
    "\n",
    "Null Hypothesis(H0) : The type of device and customer satisfaction level are independent.\n",
    "\n",
    "Alternate Hypothesis(Ha): The type of device and customer satisfaction level are dependent"
   ]
  },
  {
   "cell_type": "code",
   "execution_count": null,
   "id": "2a0d2ff3-4e85-47ca-a357-92a9a5903026",
   "metadata": {},
   "outputs": [],
   "source": [
    "## import pandas as pd\n",
    "import scipy.stats as st\n",
    "st.chi2_contingency\n",
    "from scipy.stats import chi2_contingency"
   ]
  },
  {
   "cell_type": "code",
   "execution_count": null,
   "id": "adb9126a-435d-4d17-a7a5-525c49fb1170",
   "metadata": {},
   "outputs": [],
   "source": [
    "## Loading the dataset\n",
    "df = pd.read_csv('https://raw.githubusercontent.com/Bhanu0465/Dataset/main/Customer%20Satisfaction.csv')\n",
    "df"
   ]
  },
  {
   "cell_type": "code",
   "execution_count": null,
   "id": "f251835f-8124-4610-a5cf-7fe0758bcb8a",
   "metadata": {},
   "outputs": [],
   "source": [
    "##converting the data into lists of lists\n",
    "\n",
    "data = [\n",
    "    [50, 70],\n",
    "    [80,100],\n",
    "    [60, 90],\n",
    "    [30, 50],\n",
    "    [20, 50]   \n",
    "]"
   ]
  },
  {
   "cell_type": "markdown",
   "id": "cd1cf9bf-d8c8-4783-8538-e3610ea18e53",
   "metadata": {},
   "source": [
    "### 2. Compute the Chi-Square Statistic:"
   ]
  },
  {
   "cell_type": "code",
   "execution_count": null,
   "id": "765b24f6-b4ec-4af0-877b-e1e62d96cab2",
   "metadata": {},
   "outputs": [],
   "source": [
    "res = st.chi2_contingency(data)\n",
    "print(res)"
   ]
  },
  {
   "cell_type": "markdown",
   "id": "9d6aff30-9960-4452-976e-0ee74a9fdd51",
   "metadata": {},
   "source": [
    "### 3. Determine the Critical Value:"
   ]
  },
  {
   "cell_type": "code",
   "execution_count": null,
   "id": "289d93cc-1fd3-4122-a1f3-989ac8e5b479",
   "metadata": {},
   "outputs": [],
   "source": [
    "chi2,p,df,exp  = chi2_contingency(data)"
   ]
  },
  {
   "cell_type": "code",
   "execution_count": null,
   "id": "b5479e0c-1b7f-4c17-9ed8-be5eb1a6b396",
   "metadata": {},
   "outputs": [],
   "source": [
    "chi2, df"
   ]
  },
  {
   "cell_type": "code",
   "execution_count": null,
   "id": "c5c486af-0eae-4a79-9162-e6af3f54e5a2",
   "metadata": {},
   "outputs": [],
   "source": [
    "exp"
   ]
  },
  {
   "cell_type": "markdown",
   "id": "b743c8dc-d113-405e-9fca-c52fc9546587",
   "metadata": {},
   "source": [
    "### 4.Condition to make a Decision:"
   ]
  },
  {
   "cell_type": "code",
   "execution_count": null,
   "id": "d332c3b9-3cc3-47f0-aeda-eb918f96b79b",
   "metadata": {},
   "outputs": [],
   "source": [
    "if p < 0.05:\n",
    "    print('Reject Null Hypothesis.The type of device and customer satisfaction level are dependent')\n",
    "else:\n",
    "    print('Fail to reject null hypothesis. The type of device and customer satisfaction level are independent')"
   ]
  },
  {
   "cell_type": "markdown",
   "id": "b5cdc24b-0bb7-4a19-b7d1-b3c7dab409f1",
   "metadata": {},
   "source": [
    "### 5.Conclusion\n",
    "\n",
    "Type of smart home device purchased (Smart Thermostats vs. Smart Lights) and the customer satisfaction level are independent.\r\n"
   ]
  },
  {
   "cell_type": "code",
   "execution_count": null,
   "id": "f93743d5-0aea-4d58-b0a9-6bb673c056fe",
   "metadata": {},
   "outputs": [],
   "source": []
  },
  {
   "cell_type": "code",
   "execution_count": null,
   "id": "c7502773-22df-4f48-90c1-915f3a205d18",
   "metadata": {},
   "outputs": [],
   "source": []
  }
 ],
 "metadata": {
  "kernelspec": {
   "display_name": "Python 3 (ipykernel)",
   "language": "python",
   "name": "python3"
  },
  "language_info": {
   "codemirror_mode": {
    "name": "ipython",
    "version": 3
   },
   "file_extension": ".py",
   "mimetype": "text/x-python",
   "name": "python",
   "nbconvert_exporter": "python",
   "pygments_lexer": "ipython3",
   "version": "3.11.7"
  }
 },
 "nbformat": 4,
 "nbformat_minor": 5
}
