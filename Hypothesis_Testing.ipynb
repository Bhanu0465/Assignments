{
 "cells": [
  {
   "cell_type": "markdown",
   "id": "93a2af23-0d5f-4ef0-beb4-2e50465573c2",
   "metadata": {},
   "source": [
    "### Hypothesis Testing"
   ]
  },
  {
   "cell_type": "markdown",
   "id": "8575a68d-c5a3-420f-bb57-5247d998b83e",
   "metadata": {},
   "source": [
    "#### Background:\r\n",
    "Bombay hospitality Ltd. operates a franchise model for producing exotic Norwegian dinners throughout New England. The operating cost for a franchise in a week (W) is given by the equation W = $1,000 + $5X, where X represents the number of units produced in a week. Recent feedback from restaurant owners suggests that this cost model may no longer be accurate, as their observed weekly operating costs are higher.    \n",
    "    \r\n",
    "Objective:\r\n",
    "To investigate the restaurant owners' claim about the increase in weekly operating costs using hypothesis testing.\r\n",
    "Data Prdedovided:\r\n",
    "•\tThe theoretical weekly operating cost model: W = $1,000 + $5X\r\n",
    "•\tSample of 25 restaurants with a mean weekly cost of Rs. 3,050\r\n",
    "•\tNumber of units produced in a week (X) follows a normal distribution with a mean (μ) of 600 units and a standard deviation (σ) of 25 units\r\n"
   ]
  },
  {
   "cell_type": "code",
   "execution_count": 1,
   "id": "e6a0192c-085d-4f5c-9b6a-6df86e233a1d",
   "metadata": {
    "jp-MarkdownHeadingCollapsed": true
   },
   "outputs": [],
   "source": [
    "### Given,\n",
    "n=25\n",
    "\n",
    "x=3050\n",
    "\n",
    "μ = 3000\n",
    "\n",
    "σ=25\n"
   ]
  },
  {
   "cell_type": "markdown",
   "id": "687d502a-f1e0-4eb5-a5fe-080970118a50",
   "metadata": {},
   "source": [
    "### 1.State the Hypothesis statement:\n",
    "\n",
    "Null Hypothesis (H0): The cost model is accurate i.e u=1000+5X\n",
    "    \n",
    "Alternative Hypothesis (H1): The cost model is not accurate u>1000+5X\n"
   ]
  },
  {
   "cell_type": "markdown",
   "id": "7f9f472e-44cf-4f9e-828b-40dc85d6d37c",
   "metadata": {},
   "source": [
    "### 2.Calculate the Test Statistic\n",
    "\n",
    "Here, both Population Mean ans Standard deviations are given but the sample size is less than 30 : Z-Test is used\n",
    "Also, we need to find whether there is increase in weekly operating costs. Hence One Tail Test is used\n"
   ]
  },
  {
   "cell_type": "code",
   "execution_count": 3,
   "id": "75e5f55a-a4ea-4bcc-bc5b-ff7e69b919e0",
   "metadata": {},
   "outputs": [],
   "source": [
    "#import the libraries\n",
    "from scipy import stats \n",
    "import scipy"
   ]
  },
  {
   "cell_type": "markdown",
   "id": "302a0761-408a-4256-8d35-b1108d2ed208",
   "metadata": {},
   "source": [
    "### 3.Determine the Critical Value:\n",
    "Here alpha value(a)=0.05 or 5%\n",
    "\n",
    "CL=0.95 or 95%\n",
    "\n",
    "finding the t-score"
   ]
  },
  {
   "cell_type": "code",
   "execution_count": 4,
   "id": "f0933f45-0568-42c7-a1fb-e593d070eb8e",
   "metadata": {},
   "outputs": [],
   "source": [
    "t=(x-μ)/(σ/n**(1/2))\n",
    "df=n-1"
   ]
  },
  {
   "cell_type": "code",
   "execution_count": 7,
   "id": "65339847-0fa3-4e84-96b5-c9b8c5d4c04e",
   "metadata": {},
   "outputs": [],
   "source": [
    "p=1 - stats.t.cdf(t,df)"
   ]
  },
  {
   "cell_type": "markdown",
   "id": "e9a5eb77-8060-4b3e-9c04-af8db62a4c0e",
   "metadata": {},
   "source": [
    "### 4.Condition to make the decision"
   ]
  },
  {
   "cell_type": "code",
   "execution_count": 8,
   "id": "6502478c-c020-4489-86a6-b3fcbf958d61",
   "metadata": {},
   "outputs": [
    {
     "name": "stdout",
     "output_type": "stream",
     "text": [
      "Reject Null Hypothesis. The cost model is accurate i.e μ=1000+5X\n"
     ]
    }
   ],
   "source": [
    "#Conditional Statement\n",
    "\n",
    "if p< 0.05:\n",
    "    print('Reject Null Hypothesis. The cost model is accurate i.e μ=1000+5X')\n",
    "else:\n",
    "    print('Fail to reject H0. The cost model is  not accurate i.e μ>1000+5X')"
   ]
  },
  {
   "cell_type": "markdown",
   "id": "7228072d-5ef9-4e40-9d04-9f370c9e5122",
   "metadata": {},
   "source": [
    "### 5.Conclusion\n",
    "\n",
    "Here, the P value is less than alpha. Hence, reject null hypothesis.\n",
    "\n",
    "The restaurant owners' claim about the increase in weekly operating costs using hypothesis testing says that the cost model is accurate."
   ]
  },
  {
   "cell_type": "code",
   "execution_count": null,
   "id": "e254238f-3d6d-4214-ac2f-678775736b2b",
   "metadata": {},
   "outputs": [],
   "source": []
  }
 ],
 "metadata": {
  "kernelspec": {
   "display_name": "Python 3 (ipykernel)",
   "language": "python",
   "name": "python3"
  },
  "language_info": {
   "codemirror_mode": {
    "name": "ipython",
    "version": 3
   },
   "file_extension": ".py",
   "mimetype": "text/x-python",
   "name": "python",
   "nbconvert_exporter": "python",
   "pygments_lexer": "ipython3",
   "version": "3.11.7"
  }
 },
 "nbformat": 4,
 "nbformat_minor": 5
}
