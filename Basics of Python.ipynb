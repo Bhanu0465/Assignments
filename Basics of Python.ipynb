{
 "cells": [
  {
   "cell_type": "markdown",
   "id": "34ac7b9c-28e0-45cf-a411-d364b2d3e764",
   "metadata": {},
   "source": [
    "### Write a Python program that checks whether a given number is prime or not. A prime number is a natural number greater than 1 that has no positive divisors other than 1 and itself.\n"
   ]
  },
  {
   "cell_type": "code",
   "execution_count": null,
   "id": "1879d410-2677-40ad-acf8-23cbdc11eba3",
   "metadata": {},
   "outputs": [],
   "source": [
    "number = int(input(\"Enter any number: \"))\n",
    "if number > 1:\n",
    "    for i in range(2, number):\n",
    "        if (number % i) == 0:\n",
    "            print(number, \"is not a prime number\")\n",
    "            break\n",
    "    else:\n",
    "        print(number, \"is a prime number\")\n",
    "else:\n",
    "    print(number, \"is not a prime number\")"
   ]
  },
  {
   "cell_type": "markdown",
   "id": "309932b3-231e-462f-af1c-1f04beea558e",
   "metadata": {},
   "source": [
    "### Develop a Python program that generates two random numbers and asks the user to enter the product of these numbers. The program should then check if the user's answer is correct and display an appropriate message."
   ]
  },
  {
   "cell_type": "code",
   "execution_count": null,
   "id": "369bcb88-bde7-4d40-9a30-bfa38446e5bc",
   "metadata": {},
   "outputs": [],
   "source": [
    "import random\n",
    "num1=random.randint(1,10)\n",
    "num2=random.randint(1,10)\n",
    "product=num1*num2\n",
    "user_ans=int(input(f\"what is the product of {num1} and {num2}?\"))\n",
    "if user_ans==product:\n",
    "    print(\"Excellent! the answer is correct\")\n",
    "else:\n",
    "    print(f\"sorry! the correct answer is {product}\")\n"
   ]
  },
  {
   "cell_type": "markdown",
   "id": "dc6a5eb7-7857-4ec9-a28d-e81e0912568a",
   "metadata": {},
   "source": [
    "### write a program to count the number of words in a given text.\r\n",
    "example:\r\n",
    "input_text = \"This is a sample text. This text will be used to demonstrate the word counter.\"\r\n",
    "Expected output:\r\n",
    "'This': 2 \r\n",
    "'is': 1\r\n",
    "'a': 1\r\n",
    "'sample': 1\r\n",
    "'text.': 1\r\n",
    "\n",
    "ext.': 1\r\n"
   ]
  },
  {
   "cell_type": "code",
   "execution_count": 5,
   "id": "8a1ff913-3b94-4b05-9b28-e18c5c574553",
   "metadata": {},
   "outputs": [
    {
     "name": "stdout",
     "output_type": "stream",
     "text": [
      "'this' : 2 'is' : 1 'a' : 1 'sample' : 1 'text' : 2 'will' : 1 'be' : 1 'used' : 1 'to' : 1 'demonstrate' : 1 'the' : 1 'word' : 1 'counter' : 1 "
     ]
    }
   ],
   "source": [
    "def word_counter(text):\n",
    "    words=text.split()  ## splitting the words\n",
    "    word_count={}\n",
    "    for word in words:\n",
    "        word=word.strip('.,').lower()    ## ignoring punctuations\n",
    "        if word in word_count:\n",
    "            word_count[word]+=1\n",
    "        else:\n",
    "            word_count[word]=1\n",
    "    for word,count in word_count.items():\n",
    "        print(f\"'{word}' : {count}\",end=' ')\n",
    "input_text = \"This is a sample text. This text will be used to demonstrate the word counter.\"\n",
    "word_counter(input_text)\n"
   ]
  },
  {
   "cell_type": "markdown",
   "id": "04463fb1-5a46-4554-bf34-2a0078b35c56",
   "metadata": {},
   "source": [
    "### Write a Python function called is_palindrome that takes a string as input and returns True if the string is a palindrome, and False otherwise. A palindrome is a word, phrase, number, or other sequence of characters that reads the same forward and backward, ignoring spaces, punctuation, and capitalization."
   ]
  },
  {
   "cell_type": "code",
   "execution_count": 3,
   "id": "0f2e511d-4039-45c4-9721-6f147d83a22d",
   "metadata": {},
   "outputs": [],
   "source": [
    "def is_palindrome(str):\n",
    "   return str==str[::-1]"
   ]
  },
  {
   "cell_type": "code",
   "execution_count": 4,
   "id": "15494ba8-b738-4905-a91a-064d3ddc4d22",
   "metadata": {},
   "outputs": [
    {
     "data": {
      "text/plain": [
       "True"
      ]
     },
     "execution_count": 4,
     "metadata": {},
     "output_type": "execute_result"
    }
   ],
   "source": [
    "s = \"malayalam\"\n",
    "is_palindrome(s)"
   ]
  },
  {
   "cell_type": "markdown",
   "id": "f4e95f4d-c5c7-4590-b637-8703f1bda3af",
   "metadata": {},
   "source": [
    "### Create a Python script that prints the squares of all even or odd numbers within the range of 100 to 200. Choose either even or odd numbers and document your choice in the code."
   ]
  },
  {
   "cell_type": "code",
   "execution_count": null,
   "id": "baf1b7ec-b76d-4256-8e5e-e342de603d11",
   "metadata": {},
   "outputs": [],
   "source": [
    "## for even numbers\n",
    "for num in range(100,201):\n",
    "    if num%2==0:\n",
    "        print(num**2)\n",
    "        "
   ]
  },
  {
   "cell_type": "code",
   "execution_count": null,
   "id": "dfee743a-2671-4408-9264-17789675f179",
   "metadata": {},
   "outputs": [],
   "source": [
    "## for odd numbers\n",
    "for num in range(100,201):\n",
    "    if num%2==1:\n",
    "        print(num**2)"
   ]
  },
  {
   "cell_type": "code",
   "execution_count": null,
   "id": "90beee22-c9a7-4179-b6aa-a9e7b5ef227a",
   "metadata": {},
   "outputs": [],
   "source": []
  }
 ],
 "metadata": {
  "kernelspec": {
   "display_name": "Python 3 (ipykernel)",
   "language": "python",
   "name": "python3"
  },
  "language_info": {
   "codemirror_mode": {
    "name": "ipython",
    "version": 3
   },
   "file_extension": ".py",
   "mimetype": "text/x-python",
   "name": "python",
   "nbconvert_exporter": "python",
   "pygments_lexer": "ipython3",
   "version": "3.11.7"
  }
 },
 "nbformat": 4,
 "nbformat_minor": 5
}
